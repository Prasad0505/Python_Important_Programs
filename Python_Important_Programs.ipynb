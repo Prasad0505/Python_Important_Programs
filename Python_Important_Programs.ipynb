{
  "nbformat": 4,
  "nbformat_minor": 0,
  "metadata": {
    "colab": {
      "provenance": [],
      "authorship_tag": "ABX9TyOauNJxj+7R+djSbggFk9Vf",
      "include_colab_link": true
    },
    "kernelspec": {
      "name": "python3",
      "display_name": "Python 3"
    },
    "language_info": {
      "name": "python"
    }
  },
  "cells": [
    {
      "cell_type": "markdown",
      "metadata": {
        "id": "view-in-github",
        "colab_type": "text"
      },
      "source": [
        "<a href=\"https://colab.research.google.com/github/Prasad0505/Python_Important_Programs/blob/main/Python_Important_Programs.ipynb\" target=\"_parent\"><img src=\"https://colab.research.google.com/assets/colab-badge.svg\" alt=\"Open In Colab\"/></a>"
      ]
    },
    {
      "cell_type": "code",
      "execution_count": 1,
      "metadata": {
        "colab": {
          "base_uri": "https://localhost:8080/"
        },
        "id": "pPGycBWDT9un",
        "outputId": "e36c142d-1c0a-48ca-eb79-68947df3f051"
      },
      "outputs": [
        {
          "output_type": "stream",
          "name": "stdout",
          "text": [
            "Enter Number:153\n",
            "153 is armstrong number\n"
          ]
        }
      ],
      "source": [
        "#armstrong number\n",
        "num=int(input(\"Enter Number:\"))\n",
        "temp=num\n",
        "sum=0\n",
        "while(num>0):\n",
        "    dig=num%10\n",
        "    sum=sum+(dig*dig*dig)\n",
        "    num=num//10\n",
        "if(sum==temp):\n",
        "    print(f\"{temp} is armstrong number\")\n",
        "else:\n",
        "    print(f\"{temp} is not armstrong number\")\n"
      ]
    },
    {
      "cell_type": "code",
      "source": [
        "#Pallindrone number\n",
        "num=int(input(\"Enter Number:\"))\n",
        "temp=num\n",
        "sum=0\n",
        "while(num>0):\n",
        "    dig=num%10\n",
        "    sum=sum*10+dig\n",
        "    num=num//10\n",
        "if(temp==sum):\n",
        "    print(f\"yes! {temp} is pallindrone number\")\n",
        "else:\n",
        "    print(f\"{temp} is not pallindrone number\")"
      ],
      "metadata": {
        "colab": {
          "base_uri": "https://localhost:8080/"
        },
        "id": "yIYUhbDSUwBz",
        "outputId": "e5bbbcdc-c566-4b23-e9f4-f0254e6f8a93"
      },
      "execution_count": 2,
      "outputs": [
        {
          "output_type": "stream",
          "name": "stdout",
          "text": [
            "Enter Number:121\n",
            "yes! 121 is pallindrone number\n"
          ]
        }
      ]
    },
    {
      "cell_type": "code",
      "source": [
        "#Add Two number programm python\n",
        "num1=int(input(\"Enter Number1:\"))\n",
        "num2=int(input(\"Enter Number2:\"))\n",
        "\n",
        "result=num1+num2\n",
        "print(f\"Addition of two numbers {num1} & {num2} = {result}\") \n"
      ],
      "metadata": {
        "colab": {
          "base_uri": "https://localhost:8080/"
        },
        "id": "RIjO1vuoUvAy",
        "outputId": "9eb698d6-3f3d-4633-d055-a94b040b786b"
      },
      "execution_count": 3,
      "outputs": [
        {
          "output_type": "stream",
          "name": "stdout",
          "text": [
            "Enter Number1:5\n",
            "Enter Number2:7\n",
            "Addition of two numbers 5 & 7 = 12\n"
          ]
        }
      ]
    },
    {
      "cell_type": "code",
      "source": [
        "#Maximum of two numbers program in python\n",
        "num3=float(input(\"Enter number1: \"))\n",
        "num4=float(input(\"Enter number2: \"))\n",
        "if(num3>num4):\n",
        "    print(f\"The maximum number is {num3}\")\n",
        "else:\n",
        "    (print(f\"The maximum number is {num4}\"))\n"
      ],
      "metadata": {
        "colab": {
          "base_uri": "https://localhost:8080/"
        },
        "id": "oCQOCg_-UuIi",
        "outputId": "312fd0ed-4be3-4f25-9ead-d91b8e910991"
      },
      "execution_count": 4,
      "outputs": [
        {
          "output_type": "stream",
          "name": "stdout",
          "text": [
            "Enter number1: 23\n",
            "Enter number2: 25\n",
            "The maximum number is 25.0\n",
            "None\n"
          ]
        }
      ]
    },
    {
      "cell_type": "code",
      "source": [
        "# python program of factorial of numbers\n",
        "n=int(input(\"Enter Number:\"))\n",
        "\n",
        "def factorial(number):\n",
        "       return 1 if(number==1 or number==0) else number*factorial(number-1)\n",
        "\n",
        "result=factorial(n)\n",
        "    \n",
        "print(f\"The factorial number is {result}\")\n"
      ],
      "metadata": {
        "colab": {
          "base_uri": "https://localhost:8080/"
        },
        "id": "gdKXmGcsVI7U",
        "outputId": "2ed6f658-cd0a-425c-f5f8-c3060aedf74b"
      },
      "execution_count": 5,
      "outputs": [
        {
          "output_type": "stream",
          "name": "stdout",
          "text": [
            "Enter Number:5\n",
            "The factorial number is 120\n"
          ]
        }
      ]
    },
    {
      "cell_type": "code",
      "source": [
        "# Python programm to find area of circle\n",
        "import math\n",
        "\n",
        "radius=float(input(\"Enter radius: \"))\n",
        "area=math.pi*radius*radius\n",
        "\n",
        "print(f\"Area of circle is {area}\")\n"
      ],
      "metadata": {
        "colab": {
          "base_uri": "https://localhost:8080/"
        },
        "id": "vfZTuAtTVWS3",
        "outputId": "57283bde-5235-4669-f14e-f01904c9f5bb"
      },
      "execution_count": 6,
      "outputs": [
        {
          "output_type": "stream",
          "name": "stdout",
          "text": [
            "Enter radius: 5\n",
            "Area of circle is 78.53981633974483\n"
          ]
        }
      ]
    },
    {
      "cell_type": "code",
      "source": [
        "#Python Program for simple interest\n",
        "\n",
        "#principal amount\n",
        "p=int(input(\"Enter principal amount:\"))\n",
        "\n",
        "#Time\n",
        "t=int(input(\"Enter Time: \"))\n",
        "\n",
        "#rate of interest\n",
        "r=int(input(\"Enter rate of interest: \"))\n",
        "\n",
        "def simple_intrest(n1,n2,n3):\n",
        "    si=n1*n2*n3/100\n",
        "    return si\n",
        "\n",
        "rs=simple_intrest(p,t,r)\n",
        "\n",
        "print(f\"The simple intrest is intrest is {rs}\")\n",
        "\n"
      ],
      "metadata": {
        "colab": {
          "base_uri": "https://localhost:8080/"
        },
        "id": "FdlPmem0Vfb4",
        "outputId": "c2e0251b-2a85-481e-fb08-77db6e967978"
      },
      "execution_count": 7,
      "outputs": [
        {
          "output_type": "stream",
          "name": "stdout",
          "text": [
            "Enter principal amount:1000\n",
            "Enter Time: 2\n",
            "Enter rate of interest: 5\n",
            "The simple intrest is intrest is 100.0\n"
          ]
        }
      ]
    },
    {
      "cell_type": "code",
      "source": [
        "#Python Program for compound interest\n",
        "\n",
        "#refer program 7 for understanding\n",
        "principle_p1=10000\n",
        "rate_of_interest_r1=10\n",
        "time_t1=1\n",
        "\n",
        "def compond_interest(p1,r1,t1):\n",
        "    si=p1*r1*t1/100\n",
        "    a=p1+si\n",
        "    \n",
        "    #now calculating compound interest\n",
        "    ci=a-p\n",
        "    \n",
        "    return ci\n",
        "\n",
        "rs=compond_interest(10000,10,1)\n",
        "print(f\"The compond interest is {rs}\")\n",
        "\n"
      ],
      "metadata": {
        "colab": {
          "base_uri": "https://localhost:8080/"
        },
        "id": "qzTqiGUfVkyj",
        "outputId": "d43b3295-b7fa-4d08-cbf2-8aac7859bef5"
      },
      "execution_count": 8,
      "outputs": [
        {
          "output_type": "stream",
          "name": "stdout",
          "text": [
            "The compond interest is 10000.0\n"
          ]
        }
      ]
    },
    {
      "cell_type": "code",
      "source": [
        "#To check wheather is prime number or not\n",
        "\n",
        "#prime number is only divisible by 1 and itself\n",
        "number1=int(input(\"Enter number you want: \"))\n",
        "if(number1<2):\n",
        "    print(\"Not a prime number\")\n",
        "else:\n",
        "    for i in range(2,number1):\n",
        "        if(number1 %i==0):\n",
        "            print(\"Number is Not Prime\")\n",
        "            break\n",
        "    else:\n",
        "        print(\"Number is Prime\")\n"
      ],
      "metadata": {
        "colab": {
          "base_uri": "https://localhost:8080/"
        },
        "id": "769UwF3LVpqq",
        "outputId": "68d79f6b-5d32-4704-bdf2-0e631b39d561"
      },
      "execution_count": 9,
      "outputs": [
        {
          "output_type": "stream",
          "name": "stdout",
          "text": [
            "Enter number you want: 5\n",
            "Number is Prime\n"
          ]
        }
      ]
    },
    {
      "cell_type": "code",
      "source": [
        "#Print it even or odd\n",
        "def even_odd(n):\n",
        "    if(n%2==0):\n",
        "        print(f\"Number {n} is Even\")\n",
        "    else:\n",
        "        print(f\"Number {n} is odd\")\n",
        "    return n\n",
        "\n",
        "even_odd(16)\n",
        "\n"
      ],
      "metadata": {
        "colab": {
          "base_uri": "https://localhost:8080/"
        },
        "id": "H_Wwp5AMVttq",
        "outputId": "b4074737-97d3-4c4f-9084-d3fbfaf6d0fd"
      },
      "execution_count": 10,
      "outputs": [
        {
          "output_type": "stream",
          "name": "stdout",
          "text": [
            "Number 16 is Even\n"
          ]
        },
        {
          "output_type": "execute_result",
          "data": {
            "text/plain": [
              "16"
            ]
          },
          "metadata": {},
          "execution_count": 10
        }
      ]
    },
    {
      "cell_type": "code",
      "source": [
        "#Print it even or odd\n",
        "def even_odd(n):\n",
        "    if(n%2==0):\n",
        "        print(f\"Number {n} is Even\")\n",
        "    else:\n",
        "        print(f\"Number {n} is odd\")\n",
        "    return n\n",
        "\n",
        "even_odd(16)\n",
        "\n"
      ],
      "metadata": {
        "colab": {
          "base_uri": "https://localhost:8080/"
        },
        "id": "SrjEpSiaVyg8",
        "outputId": "b59acf18-d542-422b-8830-5d3d78928d58"
      },
      "execution_count": 11,
      "outputs": [
        {
          "output_type": "stream",
          "name": "stdout",
          "text": [
            "Number 16 is Even\n"
          ]
        },
        {
          "output_type": "execute_result",
          "data": {
            "text/plain": [
              "16"
            ]
          },
          "metadata": {},
          "execution_count": 11
        }
      ]
    },
    {
      "cell_type": "code",
      "source": [
        "# Python program for n-th fibonacii number\n",
        "user=int(input(\"Enter Number: \"))\n",
        "def fabonaccii(n):\n",
        "    if n<0:\n",
        "        print(\"Please ! Enter valid input\")\n",
        "    elif n==0:\n",
        "        return 0\n",
        "    elif n==1 or n==2:\n",
        "        return 1\n",
        "    else:\n",
        "        #formula to find fibnocii number\n",
        "        return fabonaccii(n-1)+fabonaccii(n-2)\n",
        "rs=fabonaccii(user)\n",
        "\n",
        "print(rs)\n",
        "\n"
      ],
      "metadata": {
        "colab": {
          "base_uri": "https://localhost:8080/"
        },
        "id": "bE3cMYHvV4sl",
        "outputId": "123171c7-44e1-4bb5-f575-b8226dc44709"
      },
      "execution_count": 12,
      "outputs": [
        {
          "output_type": "stream",
          "name": "stdout",
          "text": [
            "Enter Number: 10\n",
            "55\n"
          ]
        }
      ]
    },
    {
      "cell_type": "code",
      "source": [
        "#Check given number is fibnocii number or not\n",
        "import math\n",
        "\n",
        "#function to check the square root is equal to the perfect number\n",
        "def perfect_square(x):\n",
        "    s=int(math.sqrt(x))\n",
        "    return s*s==x\n",
        "\n",
        "numb=int(input(\"Enter number: \"))\n",
        "result1=5*(numb*numb)+4\n",
        "result2=5*(numb*numb)-4\n",
        "\n",
        "if(perfect_square(result1)) or perfect_square(result2):\n",
        "    print(f\"The given number {numb} is fiboncii number\")\n",
        "else:\n",
        "    print(f\"The given number {numb} is not fiboncii number\")\n",
        "\n"
      ],
      "metadata": {
        "colab": {
          "base_uri": "https://localhost:8080/"
        },
        "id": "Xulb4OnQWLKJ",
        "outputId": "04f0bbfa-6d63-46a4-e2dd-ad1cfecfd136"
      },
      "execution_count": 13,
      "outputs": [
        {
          "output_type": "stream",
          "name": "stdout",
          "text": [
            "Enter number: 8\n",
            "The given number 8 is fiboncii number\n"
          ]
        }
      ]
    },
    {
      "cell_type": "code",
      "source": [
        "#Print ASCII value of given charcter\n",
        "character=input(\"Enter charcter to know ascii value: \")\n",
        "\n",
        "#ord is function that convert character into length\n",
        "print(f\"The given character is {character} theri ascii value is {ord(character)}\")\n",
        "\n",
        "\n",
        "     "
      ],
      "metadata": {
        "colab": {
          "base_uri": "https://localhost:8080/"
        },
        "id": "gWcJXo9JWNuZ",
        "outputId": "912d2716-2f50-4b4c-b49a-6b300c86c3ab"
      },
      "execution_count": 14,
      "outputs": [
        {
          "output_type": "stream",
          "name": "stdout",
          "text": [
            "Enter charcter to know ascii value: A\n",
            "The given character is A theri ascii value is 65\n"
          ]
        }
      ]
    },
    {
      "cell_type": "code",
      "source": [
        "#Python Program to find sum of 1st n natural number\n",
        "\n",
        "#user input\n",
        "nat_numb=int(input(\"Enter Number: \"))\n",
        "#function\n",
        "def natural_number(n):\n",
        "    sum=0\n",
        "    for i in range(1,n+1):\n",
        "        sum=sum+(i*i)\n",
        "    return sum\n",
        "\n",
        "print(f\"The natural number is {natural_number(nat_numb)}\")\n"
      ],
      "metadata": {
        "colab": {
          "base_uri": "https://localhost:8080/"
        },
        "id": "Hl804gTrWNce",
        "outputId": "b49185f6-bb45-43e0-c741-a07bcdda0b19"
      },
      "execution_count": 15,
      "outputs": [
        {
          "output_type": "stream",
          "name": "stdout",
          "text": [
            "Enter Number: 10\n",
            "The natural number is 385\n"
          ]
        }
      ]
    },
    {
      "cell_type": "code",
      "source": [
        "#Python program for cube sum of 1st n natural number\n",
        "\n",
        "#refer program 15 for input\n",
        "def natural_sum_cube(n):\n",
        "    sum=0\n",
        "    for i in range(1,n+1):\n",
        "        sum=sum+pow(i,3) #OR sum=sum+(i*i*i)\n",
        "    return sum\n",
        "\n",
        "print(f\"The cube sum of 1st n natural number {natural_sum_cube(nat_numb)}\")\n"
      ],
      "metadata": {
        "colab": {
          "base_uri": "https://localhost:8080/"
        },
        "id": "tMzrMRRYWbYH",
        "outputId": "09739429-859b-4afa-d0e4-a8f117d6f8eb"
      },
      "execution_count": 16,
      "outputs": [
        {
          "output_type": "stream",
          "name": "stdout",
          "text": [
            "The cube sum of 1st n natural number 3025\n"
          ]
        }
      ]
    }
  ]
}